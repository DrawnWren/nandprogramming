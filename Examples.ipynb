{
  "nbformat": 4,
  "nbformat_minor": 0,
  "metadata": {
    "colab": {
      "name": "Examples.ipynb",
      "version": "0.3.2",
      "provenance": [],
      "include_colab_link": true
    }
  },
  "cells": [
    {
      "cell_type": "markdown",
      "metadata": {
        "id": "view-in-github",
        "colab_type": "text"
      },
      "source": [
        "[View in Colaboratory](https://colab.research.google.com/github/wfus/nandprogramming/blob/master/Examples.ipynb)"
      ]
    },
    {
      "metadata": {
        "id": "oLUEF7yHjuoJ",
        "colab_type": "text"
      },
      "cell_type": "markdown",
      "source": [
        "# Examples of NAND Programming with NANDProgram\n",
        "\n",
        "For HW3, we've provided a class that you can use to construct your NAND program. Here's some of the syntax that you can use, and the general interface of the class. We'll first have to fetch the library - for problem set 3, the class should be given to you already through canvas.\n"
      ]
    },
    {
      "metadata": {
        "id": "5gQnnASDQ-g_",
        "colab_type": "code",
        "colab": {
          "base_uri": "https://localhost:8080/",
          "height": 119
        },
        "outputId": "6d0eb66a-1856-4019-d540-e45955fc2a38"
      },
      "cell_type": "code",
      "source": [
        "!rm -rf nandprogramming\n",
        "!git clone http://www.github.com/wfus/nandprogramming\n",
        "!mv nandprogramming/nandutil.py .\n",
        "%load nandutil.py"
      ],
      "execution_count": 1,
      "outputs": [
        {
          "output_type": "stream",
          "text": [
            "Cloning into 'nandprogramming'...\n",
            "warning: redirecting to https://github.com/wfus/nandprogramming.git/\n",
            "remote: Counting objects: 23, done.\u001b[K\n",
            "remote: Compressing objects: 100% (16/16), done.\u001b[K\n",
            "remote: Total 23 (delta 11), reused 15 (delta 7), pack-reused 0\u001b[K\n",
            "Unpacking objects: 100% (23/23), done.\n"
          ],
          "name": "stdout"
        }
      ]
    },
    {
      "metadata": {
        "id": "kWZRn7QBFnUP",
        "colab_type": "code",
        "colab": {}
      },
      "cell_type": "code",
      "source": [
        "from nandutil import NANDProgram\n",
        "from nandutil import EVAL\n",
        "from nandutil import TRUTH\n"
      ],
      "execution_count": 0,
      "outputs": []
    },
    {
      "metadata": {
        "id": "fsTBixQHMSI9",
        "colab_type": "text"
      },
      "cell_type": "markdown",
      "source": [
        "## Creating a new NAND Program\n",
        "\n",
        "Each NAND Program can be represented with an instance of the NANDProgram class. To create a new nand program, create an object. There are a few useful utilities that you can use to access information about your current NAND program.\n",
        "\n",
        "* __len__: Gets the length of your NAND program without any syntactic sugar.\n",
        "* __str__: Gets the string representation of your NAND program to be fed into EVAL\n",
        "\n",
        "We'll go through a few examples. We'll first do some of the simple ones. Note that the NAND program is initialized with `NANDProgram(num_inputs, num_outputs)`.\n"
      ]
    },
    {
      "metadata": {
        "id": "s-Wb5vlpjxMm",
        "colab_type": "code",
        "colab": {
          "base_uri": "https://localhost:8080/",
          "height": 85
        },
        "outputId": "219dba53-23fc-4887-9235-4306b24a781a"
      },
      "cell_type": "code",
      "source": [
        "mystery1 = NANDProgram(6, 1)  # two inputs, one output\n",
        "w1 = mystery1.allocate()  # allocate a workspace var, \"w[0]\"\n",
        "w2 = mystery1.allocate()  # allocate another workspace var, \"w[1]\"\n",
        "mystery1.NAND(w1, mystery1.input_var(0), mystery1.input_var(0)) # this adds the following line to our nand program: w[0] = NAND(X[0], X[0])\n",
        "mystery1.NAND(w2, mystery1.input_var(1), mystery1.input_var(1))\n",
        "mystery1.NAND(mystery1.output_var(0), w1, w2)\n",
        "print(str(mystery1))"
      ],
      "execution_count": 9,
      "outputs": [
        {
          "output_type": "stream",
          "text": [
            "w[0] = NAND(X[0],X[0])\n",
            "w[1] = NAND(X[1],X[1])\n",
            "Y[0] = NAND(w[0],w[1])\n",
            "w[2] = NAND(X[5],X[5])\n"
          ],
          "name": "stdout"
        }
      ]
    },
    {
      "metadata": {
        "id": "nm3VkibGMID_",
        "colab_type": "text"
      },
      "cell_type": "markdown",
      "source": [
        "How many lines does our program have?"
      ]
    },
    {
      "metadata": {
        "id": "kspqwC5nj3sH",
        "colab_type": "code",
        "colab": {
          "base_uri": "https://localhost:8080/",
          "height": 34
        },
        "outputId": "e297630a-a6de-4390-b2b9-d5897f3a2471"
      },
      "cell_type": "code",
      "source": [
        "print(\"Length of our program: %s\" % len(mystery1))"
      ],
      "execution_count": 10,
      "outputs": [
        {
          "output_type": "stream",
          "text": [
            "Length of our program: 4\n"
          ],
          "name": "stdout"
        }
      ]
    },
    {
      "metadata": {
        "id": "1XRXLH-iWgQf",
        "colab_type": "text"
      },
      "cell_type": "markdown",
      "source": [
        "We can also try out all inputs and generate the truth table, which is pretty useful for debugging."
      ]
    },
    {
      "metadata": {
        "id": "Qm66JRyiWfhs",
        "colab_type": "code",
        "colab": {
          "base_uri": "https://localhost:8080/",
          "height": 1139
        },
        "outputId": "d5535419-6b7d-4464-9b8f-5c96f3cb073b"
      },
      "cell_type": "code",
      "source": [
        "TRUTH(str(mystery1))"
      ],
      "execution_count": 11,
      "outputs": [
        {
          "output_type": "stream",
          "text": [
            "In       Out\n",
            "------------\n",
            "000000 |   0\n",
            "100000 |   1\n",
            "010000 |   1\n",
            "110000 |   1\n",
            "001000 |   0\n",
            "101000 |   1\n",
            "011000 |   1\n",
            "111000 |   1\n",
            "000100 |   0\n",
            "100100 |   1\n",
            "010100 |   1\n",
            "110100 |   1\n",
            "001100 |   0\n",
            "101100 |   1\n",
            "011100 |   1\n",
            "111100 |   1\n",
            "000010 |   0\n",
            "100010 |   1\n",
            "010010 |   1\n",
            "110010 |   1\n",
            "001010 |   0\n",
            "101010 |   1\n",
            "011010 |   1\n",
            "111010 |   1\n",
            "000110 |   0\n",
            "100110 |   1\n",
            "010110 |   1\n",
            "110110 |   1\n",
            "001110 |   0\n",
            "101110 |   1\n",
            "011110 |   1\n",
            "111110 |   1\n",
            "000001 |   0\n",
            "100001 |   1\n",
            "010001 |   1\n",
            "110001 |   1\n",
            "001001 |   0\n",
            "101001 |   1\n",
            "011001 |   1\n",
            "111001 |   1\n",
            "000101 |   0\n",
            "100101 |   1\n",
            "010101 |   1\n",
            "110101 |   1\n",
            "001101 |   0\n",
            "101101 |   1\n",
            "011101 |   1\n",
            "111101 |   1\n",
            "000011 |   0\n",
            "100011 |   1\n",
            "010011 |   1\n",
            "110011 |   1\n",
            "001011 |   0\n",
            "101011 |   1\n",
            "011011 |   1\n",
            "111011 |   1\n",
            "000111 |   0\n",
            "100111 |   1\n",
            "010111 |   1\n",
            "110111 |   1\n",
            "001111 |   0\n",
            "101111 |   1\n",
            "011111 |   1\n",
            "111111 |   1\n"
          ],
          "name": "stdout"
        }
      ]
    },
    {
      "metadata": {
        "id": "xXu3V4okLeGu",
        "colab_type": "text"
      },
      "cell_type": "markdown",
      "source": [
        "## Syntactic Sugar\n",
        "\n",
        "Luckily, we've implemented some syntactic sugar that you can use. Syntactic sugar allows you to build up your solution more abstractly. If you want to implement your own syntactic sugar, you can modify or extend the NANDProgram class inside the helper file `nandutil.py` that we provide. Or, you can implement everything from scratch if you want to go for the optimized `nandsquare256` for the bonus points.\n",
        "\n"
      ]
    },
    {
      "metadata": {
        "id": "RSl8V-eGLs6-",
        "colab_type": "code",
        "colab": {
          "base_uri": "https://localhost:8080/",
          "height": 85
        },
        "outputId": "52a75d9f-1d11-455a-d8ff-a067ed8ac322"
      },
      "cell_type": "code",
      "source": [
        "mystery2 = NANDProgram(2, 1)  # two inputs, one output\n",
        "mystery2.OR(mystery2.output_var(0), mystery2.input_var(1), mystery2.input_var(0)) #automatically adds all the NAND code necessary to compute \"Y[0] = OR(X[0], X[1])\"  \n",
        "print(str(mystery2))\n",
        "print('Length of our program: %s' % len(mystery2))"
      ],
      "execution_count": 14,
      "outputs": [
        {
          "output_type": "stream",
          "text": [
            "OR[0] = NAND(X[1],X[1])\n",
            "OR[1] = NAND(X[0],X[0])\n",
            "Y[0] = NAND(OR[0],OR[1])\n",
            "Length of our program: 3\n"
          ],
          "name": "stdout"
        }
      ]
    },
    {
      "metadata": {
        "id": "lEGcubuFMRvD",
        "colab_type": "text"
      },
      "cell_type": "markdown",
      "source": [
        "We see that we have the same NAND Program as last time. We have just internally named our workspace variables with the prefix `OR` to make it easier to debug later.\n",
        "\n"
      ]
    },
    {
      "metadata": {
        "id": "ok-t6uE_Woz8",
        "colab_type": "code",
        "colab": {
          "base_uri": "https://localhost:8080/",
          "height": 121
        },
        "outputId": "056cc254-3142-4e8a-b4e0-6e43b696ed7a"
      },
      "cell_type": "code",
      "source": [
        "TRUTH(str(mystery2))"
      ],
      "execution_count": 7,
      "outputs": [
        {
          "output_type": "stream",
          "text": [
            "In   Out\n",
            "--------\n",
            "00 |   0\n",
            "10 |   1\n",
            "01 |   1\n",
            "11 |   1\n"
          ],
          "name": "stdout"
        }
      ]
    },
    {
      "metadata": {
        "id": "kwI20cKGOrl8",
        "colab_type": "text"
      },
      "cell_type": "markdown",
      "source": [
        "## Syntactic Sugar Currently Implemented\n",
        "\n",
        "There are some syntactic sugar functions already implemented, and some that you will have to implement yourself. This may not be the most optimized way to do this, so you may want to write your own by modifying `nandutil.py`. \n",
        "\n",
        "| Function | Usage                                  | Description                                                      |\n",
        "|----------|----------------------------------------|------------------------------------------------------------------|\n",
        "| NAND     | NAND(out, in1, in2)                    | Computes the NAND of in1 and in2, assigns to out                 |\n",
        "| OR       | OR(out, in1, in2)                      | Computes the OR of in1 and in2, assigns to out                   |\n",
        "| AND      | AND(out, in1, in2)                     | Computes the AND of in1 and in2, assigns to out                  |\n",
        "| ONE      | ONE(out_var)                           | Assigns the workspace variable out_var the value of 1            |\n",
        "| ZERO     | ZERO(out_var)                          | Assigns the workspace variable out_var the value of 0            |\n",
        "| OR_3     | OR(out, in1, in2, in3)                 | Assigns out the value of taking OR(OR(in1, in2), in3)            |\n",
        "| AND_3    | AND(out, in1, in2, in3)                | Assigns out the value of taking AND(AND(in1, in2), in3)          |\n",
        "| ADD_3    | ADD_3(self, out1, out2, in1, in2, in3) | Adds the in1, in2, in3. Out1 will be the least significant digit |"
      ]
    },
    {
      "metadata": {
        "id": "kYwY_cDGMlUM",
        "colab_type": "text"
      },
      "cell_type": "markdown",
      "source": [
        "## Implementing Adding\n",
        "\n",
        "The previous two programs were pretty basic so let's do something more difficult. You can see in the textbook how adding can be implemented in theory, so let's do this in practice. Note that our adder will be taking two $N$ digit numbers and producing a $N+1$ digit number. __In this class, we'll usually have the first bit as the least significant bit!__ So, the function we are trying to replicate should be:\n",
        "$$ ADD: \\{0, 1\\}^{2N} \\to \\{0, 1\\}^{N+1}$$\n"
      ]
    },
    {
      "metadata": {
        "id": "dLXw72vcM1Be",
        "colab_type": "code",
        "colab": {}
      },
      "cell_type": "code",
      "source": [
        "N = 4\n",
        "add4 = NANDProgram(2 * N, N + 1)"
      ],
      "execution_count": 0,
      "outputs": []
    },
    {
      "metadata": {
        "id": "WIY7lHUENxge",
        "colab_type": "code",
        "colab": {
          "base_uri": "https://localhost:8080/",
          "height": 714
        },
        "outputId": "9be86525-b15d-426c-cafc-474ca7ab587f"
      },
      "cell_type": "code",
      "source": [
        "add4.ONE(\"ONE\")    #adds code to set the variable named \"ONE\" to 1\n",
        "add4.ZERO(\"ZERO\")\n",
        "\n",
        "# We need to allocate a variable that stores the carry digit of the previous op\n",
        "# For the first addition we know there will be no carry, so set carry as zero.\n",
        "carry = add4.allocate()\n",
        "add4.ZERO(carry)\n",
        "\n",
        "for i in range(0, N - 1):\n",
        "    last_carry = carry  # save the last carry variable to add on\n",
        "    carry = add4.allocate()  # allocate a new carry variable for next addition\n",
        "    add4.ADD_3(add4.output_var(i), carry,\n",
        "               add4.input_var(i), add4.input_var(N + i), last_carry)\n",
        "\n",
        "# On the most significant digit, the carry variable will just be tacked on\n",
        "# to the final result, y[N]\n",
        "add4.ADD_3(add4.output_var(N-1), add4.output_var(N),\n",
        "           add4.input_var(N-1), add4.input_var(2 * N - 1), carry)\n",
        "\n",
        "# Output our program as a string.\n",
        "print(str(add4))"
      ],
      "execution_count": 16,
      "outputs": [
        {
          "output_type": "stream",
          "text": [
            "ZERO[0] = NAND(X[0],X[0])\n",
            "ONE = NAND(ZERO[0],X[0])\n",
            "ONE = NAND(ZERO[0],X[0])\n",
            "ZERO = NAND(ONE,ONE)\n",
            "w[0] = NAND(ONE,ONE)\n",
            "ADD[0] = NAND(X[0],X[4])\n",
            "ADD[3] = NAND(X[0],ADD[0])\n",
            "ADD[4] = NAND(X[4],ADD[0])\n",
            "ADD[2] = NAND(ADD[3],ADD[4])\n",
            "ADD[1] = NAND(w[0],ADD[2])\n",
            "ADD[5] = NAND(ADD[2],ADD[1])\n",
            "ADD[6] = NAND(w[0],ADD[1])\n",
            "Y[0] = NAND(ADD[5],ADD[6])\n",
            "w[1] = NAND(ADD[0],ADD[1])\n",
            "ADD[7] = NAND(X[1],X[5])\n",
            "ADD[10] = NAND(X[1],ADD[7])\n",
            "ADD[11] = NAND(X[5],ADD[7])\n",
            "ADD[9] = NAND(ADD[10],ADD[11])\n",
            "ADD[8] = NAND(w[1],ADD[9])\n",
            "ADD[12] = NAND(ADD[9],ADD[8])\n",
            "ADD[13] = NAND(w[1],ADD[8])\n",
            "Y[1] = NAND(ADD[12],ADD[13])\n",
            "w[2] = NAND(ADD[7],ADD[8])\n",
            "ADD[14] = NAND(X[2],X[6])\n",
            "ADD[17] = NAND(X[2],ADD[14])\n",
            "ADD[18] = NAND(X[6],ADD[14])\n",
            "ADD[16] = NAND(ADD[17],ADD[18])\n",
            "ADD[15] = NAND(w[2],ADD[16])\n",
            "ADD[19] = NAND(ADD[16],ADD[15])\n",
            "ADD[20] = NAND(w[2],ADD[15])\n",
            "Y[2] = NAND(ADD[19],ADD[20])\n",
            "w[3] = NAND(ADD[14],ADD[15])\n",
            "ADD[21] = NAND(X[3],X[7])\n",
            "ADD[24] = NAND(X[3],ADD[21])\n",
            "ADD[25] = NAND(X[7],ADD[21])\n",
            "ADD[23] = NAND(ADD[24],ADD[25])\n",
            "ADD[22] = NAND(w[3],ADD[23])\n",
            "ADD[26] = NAND(ADD[23],ADD[22])\n",
            "ADD[27] = NAND(w[3],ADD[22])\n",
            "Y[3] = NAND(ADD[26],ADD[27])\n",
            "Y[4] = NAND(ADD[21],ADD[22])\n"
          ],
          "name": "stdout"
        }
      ]
    },
    {
      "metadata": {
        "id": "wV25mYrKWXig",
        "colab_type": "text"
      },
      "cell_type": "markdown",
      "source": [
        "Now let's test this on some input. Remember that everything has the least significant bit first."
      ]
    },
    {
      "metadata": {
        "id": "gKfYhF-2RLus",
        "colab_type": "code",
        "colab": {
          "base_uri": "https://localhost:8080/",
          "height": 34
        },
        "outputId": "83d97401-064e-49ff-fac1-2da3862b4775"
      },
      "cell_type": "code",
      "source": [
        "# 1111 -> 15\n",
        "# 1010 -> 5\n",
        "# Expected answer is 20 -> 00101\n",
        "EVAL(str(add4), \"11111010\") "
      ],
      "execution_count": 17,
      "outputs": [
        {
          "output_type": "execute_result",
          "data": {
            "text/plain": [
              "'00101'"
            ]
          },
          "metadata": {
            "tags": []
          },
          "execution_count": 17
        }
      ]
    },
    {
      "metadata": {
        "id": "imJwkPoeXjd6",
        "colab_type": "text"
      },
      "cell_type": "markdown",
      "source": [
        "__Yay, it actually works!__"
      ]
    },
    {
      "metadata": {
        "id": "CKLCor6HXUIi",
        "colab_type": "text"
      },
      "cell_type": "markdown",
      "source": [
        "## Debugging NAND programs\n",
        "\n",
        "Want to view the execution of your NAND program as it runs? That's what debugging is for!\n",
        "If you want to enable any debugging in your NAND program, pass in the argument `debug=True` when initializing the `NANDProgram` instance. \n",
        "The functions in the `NANDProgram` class (NAND, OR, AND, ADD_3, etc.) are equipped with a `debug` argument, which, when set to `True`, will cause you to see a trace of that function being called when your program is being run by `EXEC`. \n",
        "\n",
        "If you want to add new syntactic sugar functions to the `NANDProgram` class, enabling debugging for them is easy; just follow the same format as the other syntactic sugar functions provided for you.\n",
        "\n",
        "\n",
        "Let's try to debug a NAND program that calculates the function $MAJ3: \\{0, 1\\}^3 \\to \\{0, 1\\}$. "
      ]
    },
    {
      "metadata": {
        "id": "LuCteTETXGnc",
        "colab_type": "code",
        "colab": {
          "base_uri": "https://localhost:8080/",
          "height": 289
        },
        "outputId": "4c044196-dcc7-476c-a9d4-c0ccf24104ff"
      },
      "cell_type": "code",
      "source": [
        "maj3 = NANDProgram(3, 1, debug=True) #set debug=True to allow debugging in this program. If debug is not set (by default), then the debugging feature is disabled across the board\n",
        "w1 = maj3.allocate()\n",
        "w2 = maj3.allocate()\n",
        "w3 = maj3.allocate()\n",
        "o1 = maj3.allocate()\n",
        "maj3.AND(w1, maj3.input_var(0), maj3.input_var(1), debug=True) #add the debug=True argument to debug this function call\n",
        "maj3.AND(w2, maj3.input_var(1), maj3.input_var(2), debug=True)\n",
        "maj3.AND(w3, maj3.input_var(0), maj3.input_var(2), debug=True)\n",
        "maj3.OR(maj3.output_var(0), \n",
        "        w1, maj3.OR(o1, w2, w3))                               #if you want to see the OR function calls also being debugged, pass in debug=True for these functions as well.\n",
        "print(str(maj3))\n",
        "print('The length of the program is still: %s' % len(maj3))"
      ],
      "execution_count": 28,
      "outputs": [
        {
          "output_type": "stream",
          "text": [
            "AND[0] = NAND(X[0],X[1])\n",
            "w[0] = NAND(AND[0],AND[0])\n",
            "#debug AND;['w[0]'];['X[0]', 'X[1]']\n",
            "AND[1] = NAND(X[1],X[2])\n",
            "w[1] = NAND(AND[1],AND[1])\n",
            "#debug AND;['w[1]'];['X[1]', 'X[2]']\n",
            "AND[2] = NAND(X[0],X[2])\n",
            "w[2] = NAND(AND[2],AND[2])\n",
            "#debug AND;['w[2]'];['X[0]', 'X[2]']\n",
            "OR[0] = NAND(w[1],w[1])\n",
            "OR[1] = NAND(w[2],w[2])\n",
            "w[3] = NAND(OR[0],OR[1])\n",
            "OR[2] = NAND(w[0],w[0])\n",
            "OR[3] = NAND(w[3],w[3])\n",
            "Y[0] = NAND(OR[2],OR[3])\n",
            "The length of the program is still: 12\n"
          ],
          "name": "stdout"
        }
      ]
    },
    {
      "metadata": {
        "id": "HSg50ahtfXja",
        "colab_type": "text"
      },
      "cell_type": "markdown",
      "source": [
        "Now, we see that all of the syntactic sugar functions that we have marked as __debug__ have a `#debug` next to them. When we run through the program using `EVAL`, we'll be able to track these outputs, which may be useful for debugging."
      ]
    },
    {
      "metadata": {
        "id": "5-JHFhnpYwlp",
        "colab_type": "code",
        "colab": {
          "base_uri": "https://localhost:8080/",
          "height": 85
        },
        "outputId": "47326ec8-c328-46a5-a5a4-0fc290cc3347"
      },
      "cell_type": "code",
      "source": [
        "EVAL(str(maj3), '100')"
      ],
      "execution_count": 25,
      "outputs": [
        {
          "output_type": "stream",
          "text": [
            "(w[0]) = AND(X[0],X[1])                      0 = AND(10)\n",
            "(w[1]) = AND(X[1],X[2])                      0 = AND(00)\n",
            "(w[2]) = AND(X[0],X[2])                      0 = AND(10)\n"
          ],
          "name": "stdout"
        },
        {
          "output_type": "execute_result",
          "data": {
            "text/plain": [
              "'0'"
            ]
          },
          "metadata": {
            "tags": []
          },
          "execution_count": 25
        }
      ]
    }
  ]
}